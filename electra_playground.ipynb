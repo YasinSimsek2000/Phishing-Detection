{
 "cells": [
  {
   "cell_type": "code",
   "execution_count": 20,
   "metadata": {
    "collapsed": true,
    "ExecuteTime": {
     "end_time": "2024-01-01T19:23:32.052837300Z",
     "start_time": "2024-01-01T19:23:32.031641900Z"
    }
   },
   "outputs": [],
   "source": [
    "from transformers import ElectraModel, ElectraTokenizer, ElectraConfig\n",
    "from sentence_transformers import SentenceTransformer\n",
    "from transformers import ElectraTokenizer, ElectraForSequenceClassification\n",
    "from transformers import AdamW\n",
    "from torch.utils.data import DataLoader\n",
    "from torch.nn import CrossEntropyLoss\n",
    "import torch"
   ]
  },
  {
   "cell_type": "code",
   "execution_count": 1,
   "outputs": [
    {
     "ename": "NameError",
     "evalue": "name 'ElectraTokenizer' is not defined",
     "output_type": "error",
     "traceback": [
      "\u001B[1;31m---------------------------------------------------------------------------\u001B[0m",
      "\u001B[1;31mNameError\u001B[0m                                 Traceback (most recent call last)",
      "Cell \u001B[1;32mIn[1], line 3\u001B[0m\n\u001B[0;32m      1\u001B[0m \u001B[38;5;66;03m# Load pre-trained ELECTRA model and tokenizer\u001B[39;00m\n\u001B[0;32m      2\u001B[0m model_name \u001B[38;5;241m=\u001B[39m \u001B[38;5;124m\"\u001B[39m\u001B[38;5;124mgoogle/electra-base-discriminator\u001B[39m\u001B[38;5;124m\"\u001B[39m\n\u001B[1;32m----> 3\u001B[0m tokenizer \u001B[38;5;241m=\u001B[39m \u001B[43mElectraTokenizer\u001B[49m\u001B[38;5;241m.\u001B[39mfrom_pretrained(model_name)\n\u001B[0;32m      4\u001B[0m model \u001B[38;5;241m=\u001B[39m ElectraModel\u001B[38;5;241m.\u001B[39mfrom_pretrained(model_name)\n\u001B[0;32m      6\u001B[0m \u001B[38;5;66;03m# Sample sentence\u001B[39;00m\n",
      "\u001B[1;31mNameError\u001B[0m: name 'ElectraTokenizer' is not defined"
     ]
    }
   ],
   "source": [
    "# Load pre-trained ELECTRA model and tokenizer\n",
    "model_name = \"google/electra-base-discriminator\"\n",
    "tokenizer = ElectraTokenizer.from_pretrained(model_name)\n",
    "model = ElectraModel.from_pretrained(model_name)\n",
    "\n",
    "# Sample sentence\n",
    "sentence = [\"This is a sample sentence for encoding.\", \"I love you\", \"I love you\"]\n",
    "\n",
    "# Tokenize and encode the sentence\n",
    "tokens = tokenizer(sentence, return_tensors=\"pt\", padding=True, truncation=True)\n",
    "with torch.no_grad():\n",
    "    outputs = model(**tokens)\n",
    "\n",
    "# Get the sentence embeddings (CLS token)\n",
    "sentence_embedding = outputs.last_hidden_state[:, 0, :].squeeze().numpy()\n",
    "\n",
    "print(sentence_embedding)"
   ],
   "metadata": {
    "collapsed": false,
    "ExecuteTime": {
     "end_time": "2024-01-02T07:50:36.947281400Z",
     "start_time": "2024-01-02T07:50:35.560151300Z"
    }
   }
  },
  {
   "cell_type": "code",
   "execution_count": null,
   "outputs": [],
   "source": [
    "sentence_embedding.shape"
   ],
   "metadata": {
    "collapsed": false
   }
  },
  {
   "cell_type": "code",
   "execution_count": null,
   "outputs": [],
   "source": [],
   "metadata": {
    "collapsed": false
   }
  }
 ],
 "metadata": {
  "kernelspec": {
   "display_name": "Python 3",
   "language": "python",
   "name": "python3"
  },
  "language_info": {
   "codemirror_mode": {
    "name": "ipython",
    "version": 2
   },
   "file_extension": ".py",
   "mimetype": "text/x-python",
   "name": "python",
   "nbconvert_exporter": "python",
   "pygments_lexer": "ipython2",
   "version": "2.7.6"
  }
 },
 "nbformat": 4,
 "nbformat_minor": 0
}
